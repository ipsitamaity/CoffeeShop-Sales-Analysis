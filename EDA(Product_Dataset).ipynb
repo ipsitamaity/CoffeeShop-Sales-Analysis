{
  "nbformat": 4,
  "nbformat_minor": 0,
  "metadata": {
    "colab": {
      "provenance": []
    },
    "kernelspec": {
      "name": "python3",
      "display_name": "Python 3"
    },
    "language_info": {
      "name": "python"
    }
  },
  "cells": [
    {
      "cell_type": "code",
      "execution_count": null,
      "metadata": {
        "id": "Yb6KH8qFDH7u"
      },
      "outputs": [],
      "source": [
        "import pandas as pd\n",
        "import matplotlib.pyplot as plt\n",
        "import numpy as np\n",
        "import seaborn as sns"
      ]
    },
    {
      "cell_type": "code",
      "source": [
        "dataset= pd.read_excel('/content/product.xlsx')\n",
        "dataset"
      ],
      "metadata": {
        "colab": {
          "base_uri": "https://localhost:8080/",
          "height": 834
        },
        "id": "fUxVWxSwKmrv",
        "outputId": "bc35a798-4636-4679-ddfc-618cd485480b"
      },
      "execution_count": null,
      "outputs": [
        {
          "output_type": "execute_result",
          "data": {
            "text/plain": [
              "    product_id    product_group product_category       product_type  \\\n",
              "0            1  Whole Bean/Teas     Coffee beans      Organic Beans   \n",
              "1            2  Whole Bean/Teas     Coffee beans  House blend Beans   \n",
              "2            3  Whole Bean/Teas     Coffee beans     Espresso Beans   \n",
              "3            4  Whole Bean/Teas     Coffee beans     Espresso Beans   \n",
              "4            5  Whole Bean/Teas     Coffee beans      Gourmet Beans   \n",
              "..         ...              ...              ...                ...   \n",
              "83          84          Add-ons         Flavours      Regular syrup   \n",
              "84          85        Beverages           Coffee   Specialty coffee   \n",
              "85          87        Beverages           Coffee   Barista Espresso   \n",
              "86          88        Beverages           Coffee   Barista Espresso   \n",
              "87          89             Food           Bakery              Scone   \n",
              "\n",
              "                       product  \\\n",
              "0          Brazilian - Organic   \n",
              "1     Our Old Time Diner Blend   \n",
              "2               Espresso Roast   \n",
              "3         Primo Espresso Roast   \n",
              "4       Columbian Medium Roast   \n",
              "..                         ...   \n",
              "83             Chocolate syrup   \n",
              "84                  Rio Nights   \n",
              "85        Ouro Brasileiro shot   \n",
              "86  Ouro Brasileiro shot promo   \n",
              "87          Ginger Scone promo   \n",
              "\n",
              "                                  product_description unit_of_measure  \\\n",
              "0      It's like Carnival in a cup. Clean and smooth.           12 oz   \n",
              "1   Out packed blend of beans that is reminiscent ...           12 oz   \n",
              "2           Our house blend for a good espresso shot.            1 lb   \n",
              "3    Our primium single source of hand roasted beans.            1 lb   \n",
              "4            A smooth cup of coffee any time of day.             1 lb   \n",
              "..                                                ...             ...   \n",
              "83                    Bursting with chocolate flavour            pump   \n",
              "84  2 shots of Ouro Brasilerio and pure cane sugar...            6 oz   \n",
              "85                                           From Rio          1.5 oz   \n",
              "86                                         Ouro promo           16 oz   \n",
              "87                                Little bit of spice          single   \n",
              "\n",
              "    current_wholesale_price  current_retail_price tax_exempt_yn promo_yn  \\\n",
              "0                     14.40                 18.00             Y        N   \n",
              "1                     14.40                 18.00             Y        N   \n",
              "2                     11.80                 18.01             Y        N   \n",
              "3                     16.36                 18.02             Y        N   \n",
              "4                     12.00                 18.03             Y        N   \n",
              "..                      ...                   ...           ...      ...   \n",
              "83                     0.04                  0.80             Y        N   \n",
              "84                     1.20                  6.00             Y        N   \n",
              "85                     0.60                  3.00             Y        N   \n",
              "86                     0.42                  2.10             Y        Y   \n",
              "87                     1.72                  2.65             N        Y   \n",
              "\n",
              "   new_product_yn  \n",
              "0               N  \n",
              "1               N  \n",
              "2               N  \n",
              "3               N  \n",
              "4               N  \n",
              "..            ...  \n",
              "83              N  \n",
              "84              Y  \n",
              "85              N  \n",
              "86              N  \n",
              "87              N  \n",
              "\n",
              "[88 rows x 12 columns]"
            ],
            "text/html": [
              "\n",
              "  <div id=\"df-73491d5d-d5b9-49aa-8ee0-fd894421d9f5\">\n",
              "    <div class=\"colab-df-container\">\n",
              "      <div>\n",
              "<style scoped>\n",
              "    .dataframe tbody tr th:only-of-type {\n",
              "        vertical-align: middle;\n",
              "    }\n",
              "\n",
              "    .dataframe tbody tr th {\n",
              "        vertical-align: top;\n",
              "    }\n",
              "\n",
              "    .dataframe thead th {\n",
              "        text-align: right;\n",
              "    }\n",
              "</style>\n",
              "<table border=\"1\" class=\"dataframe\">\n",
              "  <thead>\n",
              "    <tr style=\"text-align: right;\">\n",
              "      <th></th>\n",
              "      <th>product_id</th>\n",
              "      <th>product_group</th>\n",
              "      <th>product_category</th>\n",
              "      <th>product_type</th>\n",
              "      <th>product</th>\n",
              "      <th>product_description</th>\n",
              "      <th>unit_of_measure</th>\n",
              "      <th>current_wholesale_price</th>\n",
              "      <th>current_retail_price</th>\n",
              "      <th>tax_exempt_yn</th>\n",
              "      <th>promo_yn</th>\n",
              "      <th>new_product_yn</th>\n",
              "    </tr>\n",
              "  </thead>\n",
              "  <tbody>\n",
              "    <tr>\n",
              "      <th>0</th>\n",
              "      <td>1</td>\n",
              "      <td>Whole Bean/Teas</td>\n",
              "      <td>Coffee beans</td>\n",
              "      <td>Organic Beans</td>\n",
              "      <td>Brazilian - Organic</td>\n",
              "      <td>It's like Carnival in a cup. Clean and smooth.</td>\n",
              "      <td>12 oz</td>\n",
              "      <td>14.40</td>\n",
              "      <td>18.00</td>\n",
              "      <td>Y</td>\n",
              "      <td>N</td>\n",
              "      <td>N</td>\n",
              "    </tr>\n",
              "    <tr>\n",
              "      <th>1</th>\n",
              "      <td>2</td>\n",
              "      <td>Whole Bean/Teas</td>\n",
              "      <td>Coffee beans</td>\n",
              "      <td>House blend Beans</td>\n",
              "      <td>Our Old Time Diner Blend</td>\n",
              "      <td>Out packed blend of beans that is reminiscent ...</td>\n",
              "      <td>12 oz</td>\n",
              "      <td>14.40</td>\n",
              "      <td>18.00</td>\n",
              "      <td>Y</td>\n",
              "      <td>N</td>\n",
              "      <td>N</td>\n",
              "    </tr>\n",
              "    <tr>\n",
              "      <th>2</th>\n",
              "      <td>3</td>\n",
              "      <td>Whole Bean/Teas</td>\n",
              "      <td>Coffee beans</td>\n",
              "      <td>Espresso Beans</td>\n",
              "      <td>Espresso Roast</td>\n",
              "      <td>Our house blend for a good espresso shot.</td>\n",
              "      <td>1 lb</td>\n",
              "      <td>11.80</td>\n",
              "      <td>18.01</td>\n",
              "      <td>Y</td>\n",
              "      <td>N</td>\n",
              "      <td>N</td>\n",
              "    </tr>\n",
              "    <tr>\n",
              "      <th>3</th>\n",
              "      <td>4</td>\n",
              "      <td>Whole Bean/Teas</td>\n",
              "      <td>Coffee beans</td>\n",
              "      <td>Espresso Beans</td>\n",
              "      <td>Primo Espresso Roast</td>\n",
              "      <td>Our primium single source of hand roasted beans.</td>\n",
              "      <td>1 lb</td>\n",
              "      <td>16.36</td>\n",
              "      <td>18.02</td>\n",
              "      <td>Y</td>\n",
              "      <td>N</td>\n",
              "      <td>N</td>\n",
              "    </tr>\n",
              "    <tr>\n",
              "      <th>4</th>\n",
              "      <td>5</td>\n",
              "      <td>Whole Bean/Teas</td>\n",
              "      <td>Coffee beans</td>\n",
              "      <td>Gourmet Beans</td>\n",
              "      <td>Columbian Medium Roast</td>\n",
              "      <td>A smooth cup of coffee any time of day.</td>\n",
              "      <td>1 lb</td>\n",
              "      <td>12.00</td>\n",
              "      <td>18.03</td>\n",
              "      <td>Y</td>\n",
              "      <td>N</td>\n",
              "      <td>N</td>\n",
              "    </tr>\n",
              "    <tr>\n",
              "      <th>...</th>\n",
              "      <td>...</td>\n",
              "      <td>...</td>\n",
              "      <td>...</td>\n",
              "      <td>...</td>\n",
              "      <td>...</td>\n",
              "      <td>...</td>\n",
              "      <td>...</td>\n",
              "      <td>...</td>\n",
              "      <td>...</td>\n",
              "      <td>...</td>\n",
              "      <td>...</td>\n",
              "      <td>...</td>\n",
              "    </tr>\n",
              "    <tr>\n",
              "      <th>83</th>\n",
              "      <td>84</td>\n",
              "      <td>Add-ons</td>\n",
              "      <td>Flavours</td>\n",
              "      <td>Regular syrup</td>\n",
              "      <td>Chocolate syrup</td>\n",
              "      <td>Bursting with chocolate flavour</td>\n",
              "      <td>pump</td>\n",
              "      <td>0.04</td>\n",
              "      <td>0.80</td>\n",
              "      <td>Y</td>\n",
              "      <td>N</td>\n",
              "      <td>N</td>\n",
              "    </tr>\n",
              "    <tr>\n",
              "      <th>84</th>\n",
              "      <td>85</td>\n",
              "      <td>Beverages</td>\n",
              "      <td>Coffee</td>\n",
              "      <td>Specialty coffee</td>\n",
              "      <td>Rio Nights</td>\n",
              "      <td>2 shots of Ouro Brasilerio and pure cane sugar...</td>\n",
              "      <td>6 oz</td>\n",
              "      <td>1.20</td>\n",
              "      <td>6.00</td>\n",
              "      <td>Y</td>\n",
              "      <td>N</td>\n",
              "      <td>Y</td>\n",
              "    </tr>\n",
              "    <tr>\n",
              "      <th>85</th>\n",
              "      <td>87</td>\n",
              "      <td>Beverages</td>\n",
              "      <td>Coffee</td>\n",
              "      <td>Barista Espresso</td>\n",
              "      <td>Ouro Brasileiro shot</td>\n",
              "      <td>From Rio</td>\n",
              "      <td>1.5 oz</td>\n",
              "      <td>0.60</td>\n",
              "      <td>3.00</td>\n",
              "      <td>Y</td>\n",
              "      <td>N</td>\n",
              "      <td>N</td>\n",
              "    </tr>\n",
              "    <tr>\n",
              "      <th>86</th>\n",
              "      <td>88</td>\n",
              "      <td>Beverages</td>\n",
              "      <td>Coffee</td>\n",
              "      <td>Barista Espresso</td>\n",
              "      <td>Ouro Brasileiro shot promo</td>\n",
              "      <td>Ouro promo</td>\n",
              "      <td>16 oz</td>\n",
              "      <td>0.42</td>\n",
              "      <td>2.10</td>\n",
              "      <td>Y</td>\n",
              "      <td>Y</td>\n",
              "      <td>N</td>\n",
              "    </tr>\n",
              "    <tr>\n",
              "      <th>87</th>\n",
              "      <td>89</td>\n",
              "      <td>Food</td>\n",
              "      <td>Bakery</td>\n",
              "      <td>Scone</td>\n",
              "      <td>Ginger Scone promo</td>\n",
              "      <td>Little bit of spice</td>\n",
              "      <td>single</td>\n",
              "      <td>1.72</td>\n",
              "      <td>2.65</td>\n",
              "      <td>N</td>\n",
              "      <td>Y</td>\n",
              "      <td>N</td>\n",
              "    </tr>\n",
              "  </tbody>\n",
              "</table>\n",
              "<p>88 rows × 12 columns</p>\n",
              "</div>\n",
              "      <button class=\"colab-df-convert\" onclick=\"convertToInteractive('df-73491d5d-d5b9-49aa-8ee0-fd894421d9f5')\"\n",
              "              title=\"Convert this dataframe to an interactive table.\"\n",
              "              style=\"display:none;\">\n",
              "        \n",
              "  <svg xmlns=\"http://www.w3.org/2000/svg\" height=\"24px\"viewBox=\"0 0 24 24\"\n",
              "       width=\"24px\">\n",
              "    <path d=\"M0 0h24v24H0V0z\" fill=\"none\"/>\n",
              "    <path d=\"M18.56 5.44l.94 2.06.94-2.06 2.06-.94-2.06-.94-.94-2.06-.94 2.06-2.06.94zm-11 1L8.5 8.5l.94-2.06 2.06-.94-2.06-.94L8.5 2.5l-.94 2.06-2.06.94zm10 10l.94 2.06.94-2.06 2.06-.94-2.06-.94-.94-2.06-.94 2.06-2.06.94z\"/><path d=\"M17.41 7.96l-1.37-1.37c-.4-.4-.92-.59-1.43-.59-.52 0-1.04.2-1.43.59L10.3 9.45l-7.72 7.72c-.78.78-.78 2.05 0 2.83L4 21.41c.39.39.9.59 1.41.59.51 0 1.02-.2 1.41-.59l7.78-7.78 2.81-2.81c.8-.78.8-2.07 0-2.86zM5.41 20L4 18.59l7.72-7.72 1.47 1.35L5.41 20z\"/>\n",
              "  </svg>\n",
              "      </button>\n",
              "      \n",
              "  <style>\n",
              "    .colab-df-container {\n",
              "      display:flex;\n",
              "      flex-wrap:wrap;\n",
              "      gap: 12px;\n",
              "    }\n",
              "\n",
              "    .colab-df-convert {\n",
              "      background-color: #E8F0FE;\n",
              "      border: none;\n",
              "      border-radius: 50%;\n",
              "      cursor: pointer;\n",
              "      display: none;\n",
              "      fill: #1967D2;\n",
              "      height: 32px;\n",
              "      padding: 0 0 0 0;\n",
              "      width: 32px;\n",
              "    }\n",
              "\n",
              "    .colab-df-convert:hover {\n",
              "      background-color: #E2EBFA;\n",
              "      box-shadow: 0px 1px 2px rgba(60, 64, 67, 0.3), 0px 1px 3px 1px rgba(60, 64, 67, 0.15);\n",
              "      fill: #174EA6;\n",
              "    }\n",
              "\n",
              "    [theme=dark] .colab-df-convert {\n",
              "      background-color: #3B4455;\n",
              "      fill: #D2E3FC;\n",
              "    }\n",
              "\n",
              "    [theme=dark] .colab-df-convert:hover {\n",
              "      background-color: #434B5C;\n",
              "      box-shadow: 0px 1px 3px 1px rgba(0, 0, 0, 0.15);\n",
              "      filter: drop-shadow(0px 1px 2px rgba(0, 0, 0, 0.3));\n",
              "      fill: #FFFFFF;\n",
              "    }\n",
              "  </style>\n",
              "\n",
              "      <script>\n",
              "        const buttonEl =\n",
              "          document.querySelector('#df-73491d5d-d5b9-49aa-8ee0-fd894421d9f5 button.colab-df-convert');\n",
              "        buttonEl.style.display =\n",
              "          google.colab.kernel.accessAllowed ? 'block' : 'none';\n",
              "\n",
              "        async function convertToInteractive(key) {\n",
              "          const element = document.querySelector('#df-73491d5d-d5b9-49aa-8ee0-fd894421d9f5');\n",
              "          const dataTable =\n",
              "            await google.colab.kernel.invokeFunction('convertToInteractive',\n",
              "                                                     [key], {});\n",
              "          if (!dataTable) return;\n",
              "\n",
              "          const docLinkHtml = 'Like what you see? Visit the ' +\n",
              "            '<a target=\"_blank\" href=https://colab.research.google.com/notebooks/data_table.ipynb>data table notebook</a>'\n",
              "            + ' to learn more about interactive tables.';\n",
              "          element.innerHTML = '';\n",
              "          dataTable['output_type'] = 'display_data';\n",
              "          await google.colab.output.renderOutput(dataTable, element);\n",
              "          const docLink = document.createElement('div');\n",
              "          docLink.innerHTML = docLinkHtml;\n",
              "          element.appendChild(docLink);\n",
              "        }\n",
              "      </script>\n",
              "    </div>\n",
              "  </div>\n",
              "  "
            ]
          },
          "metadata": {},
          "execution_count": 5
        }
      ]
    },
    {
      "cell_type": "markdown",
      "source": [
        "Removing Unnecessary Columns"
      ],
      "metadata": {
        "id": "VJdxrqTqLNi7"
      }
    },
    {
      "cell_type": "code",
      "source": [
        "dataset.columns"
      ],
      "metadata": {
        "colab": {
          "base_uri": "https://localhost:8080/"
        },
        "id": "5UrBq5peLRS7",
        "outputId": "4c37a2aa-5d8e-49e4-ea02-d2ab6fb59a32"
      },
      "execution_count": null,
      "outputs": [
        {
          "output_type": "execute_result",
          "data": {
            "text/plain": [
              "Index(['product_id', 'product_group', 'product_category', 'product_type',\n",
              "       'product', 'product_description', 'unit_of_measure',\n",
              "       'current_wholesale_price', 'current_retail_price', 'tax_exempt_yn',\n",
              "       'promo_yn', 'new_product_yn'],\n",
              "      dtype='object')"
            ]
          },
          "metadata": {},
          "execution_count": 6
        }
      ]
    },
    {
      "cell_type": "code",
      "source": [
        "subset=dataset[['product_id', 'product_group', 'product_category', 'product_type',\n",
        "       'product',\n",
        "       'current_wholesale_price', 'current_retail_price', 'tax_exempt_yn'\n",
        "        ]]\n",
        "subset"
      ],
      "metadata": {
        "colab": {
          "base_uri": "https://localhost:8080/",
          "height": 800
        },
        "id": "kpw3y7cdLi53",
        "outputId": "b2612371-1e61-46d2-8f6a-d3754743504f"
      },
      "execution_count": null,
      "outputs": [
        {
          "output_type": "execute_result",
          "data": {
            "text/plain": [
              "    product_id    product_group product_category       product_type  \\\n",
              "0            1  Whole Bean/Teas     Coffee beans      Organic Beans   \n",
              "1            2  Whole Bean/Teas     Coffee beans  House blend Beans   \n",
              "2            3  Whole Bean/Teas     Coffee beans     Espresso Beans   \n",
              "3            4  Whole Bean/Teas     Coffee beans     Espresso Beans   \n",
              "4            5  Whole Bean/Teas     Coffee beans      Gourmet Beans   \n",
              "..         ...              ...              ...                ...   \n",
              "83          84          Add-ons         Flavours      Regular syrup   \n",
              "84          85        Beverages           Coffee   Specialty coffee   \n",
              "85          87        Beverages           Coffee   Barista Espresso   \n",
              "86          88        Beverages           Coffee   Barista Espresso   \n",
              "87          89             Food           Bakery              Scone   \n",
              "\n",
              "                       product  current_wholesale_price  current_retail_price  \\\n",
              "0          Brazilian - Organic                    14.40                 18.00   \n",
              "1     Our Old Time Diner Blend                    14.40                 18.00   \n",
              "2               Espresso Roast                    11.80                 18.01   \n",
              "3         Primo Espresso Roast                    16.36                 18.02   \n",
              "4       Columbian Medium Roast                    12.00                 18.03   \n",
              "..                         ...                      ...                   ...   \n",
              "83             Chocolate syrup                     0.04                  0.80   \n",
              "84                  Rio Nights                     1.20                  6.00   \n",
              "85        Ouro Brasileiro shot                     0.60                  3.00   \n",
              "86  Ouro Brasileiro shot promo                     0.42                  2.10   \n",
              "87          Ginger Scone promo                     1.72                  2.65   \n",
              "\n",
              "   tax_exempt_yn  \n",
              "0              Y  \n",
              "1              Y  \n",
              "2              Y  \n",
              "3              Y  \n",
              "4              Y  \n",
              "..           ...  \n",
              "83             Y  \n",
              "84             Y  \n",
              "85             Y  \n",
              "86             Y  \n",
              "87             N  \n",
              "\n",
              "[88 rows x 8 columns]"
            ],
            "text/html": [
              "\n",
              "  <div id=\"df-3bc5b8ae-f04b-4a5c-a3b7-decb993a7a41\">\n",
              "    <div class=\"colab-df-container\">\n",
              "      <div>\n",
              "<style scoped>\n",
              "    .dataframe tbody tr th:only-of-type {\n",
              "        vertical-align: middle;\n",
              "    }\n",
              "\n",
              "    .dataframe tbody tr th {\n",
              "        vertical-align: top;\n",
              "    }\n",
              "\n",
              "    .dataframe thead th {\n",
              "        text-align: right;\n",
              "    }\n",
              "</style>\n",
              "<table border=\"1\" class=\"dataframe\">\n",
              "  <thead>\n",
              "    <tr style=\"text-align: right;\">\n",
              "      <th></th>\n",
              "      <th>product_id</th>\n",
              "      <th>product_group</th>\n",
              "      <th>product_category</th>\n",
              "      <th>product_type</th>\n",
              "      <th>product</th>\n",
              "      <th>current_wholesale_price</th>\n",
              "      <th>current_retail_price</th>\n",
              "      <th>tax_exempt_yn</th>\n",
              "    </tr>\n",
              "  </thead>\n",
              "  <tbody>\n",
              "    <tr>\n",
              "      <th>0</th>\n",
              "      <td>1</td>\n",
              "      <td>Whole Bean/Teas</td>\n",
              "      <td>Coffee beans</td>\n",
              "      <td>Organic Beans</td>\n",
              "      <td>Brazilian - Organic</td>\n",
              "      <td>14.40</td>\n",
              "      <td>18.00</td>\n",
              "      <td>Y</td>\n",
              "    </tr>\n",
              "    <tr>\n",
              "      <th>1</th>\n",
              "      <td>2</td>\n",
              "      <td>Whole Bean/Teas</td>\n",
              "      <td>Coffee beans</td>\n",
              "      <td>House blend Beans</td>\n",
              "      <td>Our Old Time Diner Blend</td>\n",
              "      <td>14.40</td>\n",
              "      <td>18.00</td>\n",
              "      <td>Y</td>\n",
              "    </tr>\n",
              "    <tr>\n",
              "      <th>2</th>\n",
              "      <td>3</td>\n",
              "      <td>Whole Bean/Teas</td>\n",
              "      <td>Coffee beans</td>\n",
              "      <td>Espresso Beans</td>\n",
              "      <td>Espresso Roast</td>\n",
              "      <td>11.80</td>\n",
              "      <td>18.01</td>\n",
              "      <td>Y</td>\n",
              "    </tr>\n",
              "    <tr>\n",
              "      <th>3</th>\n",
              "      <td>4</td>\n",
              "      <td>Whole Bean/Teas</td>\n",
              "      <td>Coffee beans</td>\n",
              "      <td>Espresso Beans</td>\n",
              "      <td>Primo Espresso Roast</td>\n",
              "      <td>16.36</td>\n",
              "      <td>18.02</td>\n",
              "      <td>Y</td>\n",
              "    </tr>\n",
              "    <tr>\n",
              "      <th>4</th>\n",
              "      <td>5</td>\n",
              "      <td>Whole Bean/Teas</td>\n",
              "      <td>Coffee beans</td>\n",
              "      <td>Gourmet Beans</td>\n",
              "      <td>Columbian Medium Roast</td>\n",
              "      <td>12.00</td>\n",
              "      <td>18.03</td>\n",
              "      <td>Y</td>\n",
              "    </tr>\n",
              "    <tr>\n",
              "      <th>...</th>\n",
              "      <td>...</td>\n",
              "      <td>...</td>\n",
              "      <td>...</td>\n",
              "      <td>...</td>\n",
              "      <td>...</td>\n",
              "      <td>...</td>\n",
              "      <td>...</td>\n",
              "      <td>...</td>\n",
              "    </tr>\n",
              "    <tr>\n",
              "      <th>83</th>\n",
              "      <td>84</td>\n",
              "      <td>Add-ons</td>\n",
              "      <td>Flavours</td>\n",
              "      <td>Regular syrup</td>\n",
              "      <td>Chocolate syrup</td>\n",
              "      <td>0.04</td>\n",
              "      <td>0.80</td>\n",
              "      <td>Y</td>\n",
              "    </tr>\n",
              "    <tr>\n",
              "      <th>84</th>\n",
              "      <td>85</td>\n",
              "      <td>Beverages</td>\n",
              "      <td>Coffee</td>\n",
              "      <td>Specialty coffee</td>\n",
              "      <td>Rio Nights</td>\n",
              "      <td>1.20</td>\n",
              "      <td>6.00</td>\n",
              "      <td>Y</td>\n",
              "    </tr>\n",
              "    <tr>\n",
              "      <th>85</th>\n",
              "      <td>87</td>\n",
              "      <td>Beverages</td>\n",
              "      <td>Coffee</td>\n",
              "      <td>Barista Espresso</td>\n",
              "      <td>Ouro Brasileiro shot</td>\n",
              "      <td>0.60</td>\n",
              "      <td>3.00</td>\n",
              "      <td>Y</td>\n",
              "    </tr>\n",
              "    <tr>\n",
              "      <th>86</th>\n",
              "      <td>88</td>\n",
              "      <td>Beverages</td>\n",
              "      <td>Coffee</td>\n",
              "      <td>Barista Espresso</td>\n",
              "      <td>Ouro Brasileiro shot promo</td>\n",
              "      <td>0.42</td>\n",
              "      <td>2.10</td>\n",
              "      <td>Y</td>\n",
              "    </tr>\n",
              "    <tr>\n",
              "      <th>87</th>\n",
              "      <td>89</td>\n",
              "      <td>Food</td>\n",
              "      <td>Bakery</td>\n",
              "      <td>Scone</td>\n",
              "      <td>Ginger Scone promo</td>\n",
              "      <td>1.72</td>\n",
              "      <td>2.65</td>\n",
              "      <td>N</td>\n",
              "    </tr>\n",
              "  </tbody>\n",
              "</table>\n",
              "<p>88 rows × 8 columns</p>\n",
              "</div>\n",
              "      <button class=\"colab-df-convert\" onclick=\"convertToInteractive('df-3bc5b8ae-f04b-4a5c-a3b7-decb993a7a41')\"\n",
              "              title=\"Convert this dataframe to an interactive table.\"\n",
              "              style=\"display:none;\">\n",
              "        \n",
              "  <svg xmlns=\"http://www.w3.org/2000/svg\" height=\"24px\"viewBox=\"0 0 24 24\"\n",
              "       width=\"24px\">\n",
              "    <path d=\"M0 0h24v24H0V0z\" fill=\"none\"/>\n",
              "    <path d=\"M18.56 5.44l.94 2.06.94-2.06 2.06-.94-2.06-.94-.94-2.06-.94 2.06-2.06.94zm-11 1L8.5 8.5l.94-2.06 2.06-.94-2.06-.94L8.5 2.5l-.94 2.06-2.06.94zm10 10l.94 2.06.94-2.06 2.06-.94-2.06-.94-.94-2.06-.94 2.06-2.06.94z\"/><path d=\"M17.41 7.96l-1.37-1.37c-.4-.4-.92-.59-1.43-.59-.52 0-1.04.2-1.43.59L10.3 9.45l-7.72 7.72c-.78.78-.78 2.05 0 2.83L4 21.41c.39.39.9.59 1.41.59.51 0 1.02-.2 1.41-.59l7.78-7.78 2.81-2.81c.8-.78.8-2.07 0-2.86zM5.41 20L4 18.59l7.72-7.72 1.47 1.35L5.41 20z\"/>\n",
              "  </svg>\n",
              "      </button>\n",
              "      \n",
              "  <style>\n",
              "    .colab-df-container {\n",
              "      display:flex;\n",
              "      flex-wrap:wrap;\n",
              "      gap: 12px;\n",
              "    }\n",
              "\n",
              "    .colab-df-convert {\n",
              "      background-color: #E8F0FE;\n",
              "      border: none;\n",
              "      border-radius: 50%;\n",
              "      cursor: pointer;\n",
              "      display: none;\n",
              "      fill: #1967D2;\n",
              "      height: 32px;\n",
              "      padding: 0 0 0 0;\n",
              "      width: 32px;\n",
              "    }\n",
              "\n",
              "    .colab-df-convert:hover {\n",
              "      background-color: #E2EBFA;\n",
              "      box-shadow: 0px 1px 2px rgba(60, 64, 67, 0.3), 0px 1px 3px 1px rgba(60, 64, 67, 0.15);\n",
              "      fill: #174EA6;\n",
              "    }\n",
              "\n",
              "    [theme=dark] .colab-df-convert {\n",
              "      background-color: #3B4455;\n",
              "      fill: #D2E3FC;\n",
              "    }\n",
              "\n",
              "    [theme=dark] .colab-df-convert:hover {\n",
              "      background-color: #434B5C;\n",
              "      box-shadow: 0px 1px 3px 1px rgba(0, 0, 0, 0.15);\n",
              "      filter: drop-shadow(0px 1px 2px rgba(0, 0, 0, 0.3));\n",
              "      fill: #FFFFFF;\n",
              "    }\n",
              "  </style>\n",
              "\n",
              "      <script>\n",
              "        const buttonEl =\n",
              "          document.querySelector('#df-3bc5b8ae-f04b-4a5c-a3b7-decb993a7a41 button.colab-df-convert');\n",
              "        buttonEl.style.display =\n",
              "          google.colab.kernel.accessAllowed ? 'block' : 'none';\n",
              "\n",
              "        async function convertToInteractive(key) {\n",
              "          const element = document.querySelector('#df-3bc5b8ae-f04b-4a5c-a3b7-decb993a7a41');\n",
              "          const dataTable =\n",
              "            await google.colab.kernel.invokeFunction('convertToInteractive',\n",
              "                                                     [key], {});\n",
              "          if (!dataTable) return;\n",
              "\n",
              "          const docLinkHtml = 'Like what you see? Visit the ' +\n",
              "            '<a target=\"_blank\" href=https://colab.research.google.com/notebooks/data_table.ipynb>data table notebook</a>'\n",
              "            + ' to learn more about interactive tables.';\n",
              "          element.innerHTML = '';\n",
              "          dataTable['output_type'] = 'display_data';\n",
              "          await google.colab.output.renderOutput(dataTable, element);\n",
              "          const docLink = document.createElement('div');\n",
              "          docLink.innerHTML = docLinkHtml;\n",
              "          element.appendChild(docLink);\n",
              "        }\n",
              "      </script>\n",
              "    </div>\n",
              "  </div>\n",
              "  "
            ]
          },
          "metadata": {},
          "execution_count": 7
        }
      ]
    },
    {
      "cell_type": "markdown",
      "source": [
        "Checking for unique values\n",
        "\n",
        "```\n",
        "\n",
        "```\n",
        "\n"
      ],
      "metadata": {
        "id": "tkKlMrhyQEIm"
      }
    },
    {
      "cell_type": "code",
      "source": [
        "subset.nunique()"
      ],
      "metadata": {
        "colab": {
          "base_uri": "https://localhost:8080/"
        },
        "id": "nWo0XcJVQDz8",
        "outputId": "84f8f42d-1ba3-4cfc-9d59-20f0012274f4"
      },
      "execution_count": null,
      "outputs": [
        {
          "output_type": "execute_result",
          "data": {
            "text/plain": [
              "product_id                 88\n",
              "product_group               5\n",
              "product_category            9\n",
              "product_type               31\n",
              "product                    88\n",
              "current_wholesale_price    49\n",
              "current_retail_price       44\n",
              "tax_exempt_yn               2\n",
              "dtype: int64"
            ]
          },
          "metadata": {},
          "execution_count": 8
        }
      ]
    },
    {
      "cell_type": "markdown",
      "source": [
        "Checking for Null Values"
      ],
      "metadata": {
        "id": "VupD__6aVJj1"
      }
    },
    {
      "cell_type": "code",
      "source": [
        "subset.isnull().sum()"
      ],
      "metadata": {
        "colab": {
          "base_uri": "https://localhost:8080/"
        },
        "id": "EWRZ9GbWVOUq",
        "outputId": "e29eedec-84f4-4fb6-aa57-6f15b4befe41"
      },
      "execution_count": null,
      "outputs": [
        {
          "output_type": "execute_result",
          "data": {
            "text/plain": [
              "product_id                 0\n",
              "product_group              0\n",
              "product_category           0\n",
              "product_type               0\n",
              "product                    0\n",
              "current_wholesale_price    0\n",
              "current_retail_price       0\n",
              "tax_exempt_yn              0\n",
              "dtype: int64"
            ]
          },
          "metadata": {},
          "execution_count": 9
        }
      ]
    },
    {
      "cell_type": "markdown",
      "source": [
        "Checking Outliers"
      ],
      "metadata": {
        "id": "6K1EGSLNcnUf"
      }
    },
    {
      "cell_type": "code",
      "source": [
        "sns.boxplot(x='product_category',y='current_wholesale_price',data= subset)"
      ],
      "metadata": {
        "colab": {
          "base_uri": "https://localhost:8080/",
          "height": 297
        },
        "id": "RRkZFxfScpQr",
        "outputId": "663c4002-197d-475e-aefa-4bfbc78097f9"
      },
      "execution_count": null,
      "outputs": [
        {
          "output_type": "execute_result",
          "data": {
            "text/plain": [
              "<AxesSubplot:xlabel='product_category', ylabel='current_wholesale_price'>"
            ]
          },
          "metadata": {},
          "execution_count": 12
        },
        {
          "output_type": "display_data",
          "data": {
            "text/plain": [
              "<Figure size 432x288 with 1 Axes>"
            ],
            "image/png": "[encoded data removed]"
          },
          "metadata": {
            "needs_background": "light"
          }
        }
      ]
    },
    {
      "cell_type": "code",
      "source": [
        "sns.boxplot(x='product_category',y='current_retail_price',data= subset)"
      ],
      "metadata": {
        "colab": {
          "base_uri": "https://localhost:8080/",
          "height": 297
        },
        "id": "iE-WBA1ffb8L",
        "outputId": "a873b4e2-a0ea-4728-d84e-0e0ff2491503"
      },
      "execution_count": null,
      "outputs": [
        {
          "output_type": "execute_result",
          "data": {
            "text/plain": [
              "<AxesSubplot:xlabel='product_category', ylabel='current_retail_price'>"
            ]
          },
          "metadata": {},
          "execution_count": 13
        },
        {
          "output_type": "display_data",
          "data": {
            "text/plain": [
              "<Figure size 432x288 with 1 Axes>"
            ],
            "image/png": "[encoded data removed]"
          },
          "metadata": {
            "needs_background": "light"
          }
        }
      ]
    },
    {
      "cell_type": "markdown",
      "source": [
        "Removing Outliers"
      ],
      "metadata": {
        "id": "HDLVwkRQfoYg"
      }
    },
    {
      "cell_type": "code",
      "source": [
        "upperlimit= subset['current_retail_price'].mean() + 3*subset['current_retail_price'].std()\n",
        "lowerlimit= subset['current_retail_price'].mean() - 3*subset['current_retail_price'].std()\n",
        "print(upperlimit)\n",
        "print(lowerlimit)"
      ],
      "metadata": {
        "colab": {
          "base_uri": "https://localhost:8080/"
        },
        "id": "-ygD_LZKft4g",
        "outputId": "07f324a5-53f9-4af8-e318-96f6ed26af54"
      },
      "execution_count": null,
      "outputs": [
        {
          "output_type": "stream",
          "name": "stdout",
          "text": [
            "26.783608326452804\n",
            "-12.92497196281644\n"
          ]
        }
      ]
    },
    {
      "cell_type": "code",
      "source": [
        "new_subset= subset.loc[(subset['current_retail_price']< upperlimit)|(subset['current_retail_price']> lowerlimit)]\n",
        "new_subset\n",
        "                                                                     "
      ],
      "metadata": {
        "colab": {
          "base_uri": "https://localhost:8080/",
          "height": 800
        },
        "id": "wguvvff0klWR",
        "outputId": "81e3e521-c429-4906-8a44-3950f688e740"
      },
      "execution_count": null,
      "outputs": [
        {
          "output_type": "execute_result",
          "data": {
            "text/plain": [
              "    product_id    product_group product_category       product_type  \\\n",
              "0            1  Whole Bean/Teas     Coffee beans      Organic Beans   \n",
              "1            2  Whole Bean/Teas     Coffee beans  House blend Beans   \n",
              "2            3  Whole Bean/Teas     Coffee beans     Espresso Beans   \n",
              "3            4  Whole Bean/Teas     Coffee beans     Espresso Beans   \n",
              "4            5  Whole Bean/Teas     Coffee beans      Gourmet Beans   \n",
              "..         ...              ...              ...                ...   \n",
              "83          84          Add-ons         Flavours      Regular syrup   \n",
              "84          85        Beverages           Coffee   Specialty coffee   \n",
              "85          87        Beverages           Coffee   Barista Espresso   \n",
              "86          88        Beverages           Coffee   Barista Espresso   \n",
              "87          89             Food           Bakery              Scone   \n",
              "\n",
              "                       product  current_wholesale_price  current_retail_price  \\\n",
              "0          Brazilian - Organic                    14.40                 18.00   \n",
              "1     Our Old Time Diner Blend                    14.40                 18.00   \n",
              "2               Espresso Roast                    11.80                 18.01   \n",
              "3         Primo Espresso Roast                    16.36                 18.02   \n",
              "4       Columbian Medium Roast                    12.00                 18.03   \n",
              "..                         ...                      ...                   ...   \n",
              "83             Chocolate syrup                     0.04                  0.80   \n",
              "84                  Rio Nights                     1.20                  6.00   \n",
              "85        Ouro Brasileiro shot                     0.60                  3.00   \n",
              "86  Ouro Brasileiro shot promo                     0.42                  2.10   \n",
              "87          Ginger Scone promo                     1.72                  2.65   \n",
              "\n",
              "   tax_exempt_yn  \n",
              "0              Y  \n",
              "1              Y  \n",
              "2              Y  \n",
              "3              Y  \n",
              "4              Y  \n",
              "..           ...  \n",
              "83             Y  \n",
              "84             Y  \n",
              "85             Y  \n",
              "86             Y  \n",
              "87             N  \n",
              "\n",
              "[88 rows x 8 columns]"
            ],
            "text/html": [
              "\n",
              "  <div id=\"df-6db7efac-8a2b-45b3-9840-b149104b561e\">\n",
              "    <div class=\"colab-df-container\">\n",
              "      <div>\n",
              "<style scoped>\n",
              "    .dataframe tbody tr th:only-of-type {\n",
              "        vertical-align: middle;\n",
              "    }\n",
              "\n",
              "    .dataframe tbody tr th {\n",
              "        vertical-align: top;\n",
              "    }\n",
              "\n",
              "    .dataframe thead th {\n",
              "        text-align: right;\n",
              "    }\n",
              "</style>\n",
              "<table border=\"1\" class=\"dataframe\">\n",
              "  <thead>\n",
              "    <tr style=\"text-align: right;\">\n",
              "      <th></th>\n",
              "      <th>product_id</th>\n",
              "      <th>product_group</th>\n",
              "      <th>product_category</th>\n",
              "      <th>product_type</th>\n",
              "      <th>product</th>\n",
              "      <th>current_wholesale_price</th>\n",
              "      <th>current_retail_price</th>\n",
              "      <th>tax_exempt_yn</th>\n",
              "    </tr>\n",
              "  </thead>\n",
              "  <tbody>\n",
              "    <tr>\n",
              "      <th>0</th>\n",
              "      <td>1</td>\n",
              "      <td>Whole Bean/Teas</td>\n",
              "      <td>Coffee beans</td>\n",
              "      <td>Organic Beans</td>\n",
              "      <td>Brazilian - Organic</td>\n",
              "      <td>14.40</td>\n",
              "      <td>18.00</td>\n",
              "      <td>Y</td>\n",
              "    </tr>\n",
              "    <tr>\n",
              "      <th>1</th>\n",
              "      <td>2</td>\n",
              "      <td>Whole Bean/Teas</td>\n",
              "      <td>Coffee beans</td>\n",
              "      <td>House blend Beans</td>\n",
              "      <td>Our Old Time Diner Blend</td>\n",
              "      <td>14.40</td>\n",
              "      <td>18.00</td>\n",
              "      <td>Y</td>\n",
              "    </tr>\n",
              "    <tr>\n",
              "      <th>2</th>\n",
              "      <td>3</td>\n",
              "      <td>Whole Bean/Teas</td>\n",
              "      <td>Coffee beans</td>\n",
              "      <td>Espresso Beans</td>\n",
              "      <td>Espresso Roast</td>\n",
              "      <td>11.80</td>\n",
              "      <td>18.01</td>\n",
              "      <td>Y</td>\n",
              "    </tr>\n",
              "    <tr>\n",
              "      <th>3</th>\n",
              "      <td>4</td>\n",
              "      <td>Whole Bean/Teas</td>\n",
              "      <td>Coffee beans</td>\n",
              "      <td>Espresso Beans</td>\n",
              "      <td>Primo Espresso Roast</td>\n",
              "      <td>16.36</td>\n",
              "      <td>18.02</td>\n",
              "      <td>Y</td>\n",
              "    </tr>\n",
              "    <tr>\n",
              "      <th>4</th>\n",
              "      <td>5</td>\n",
              "      <td>Whole Bean/Teas</td>\n",
              "      <td>Coffee beans</td>\n",
              "      <td>Gourmet Beans</td>\n",
              "      <td>Columbian Medium Roast</td>\n",
              "      <td>12.00</td>\n",
              "      <td>18.03</td>\n",
              "      <td>Y</td>\n",
              "    </tr>\n",
              "    <tr>\n",
              "      <th>...</th>\n",
              "      <td>...</td>\n",
              "      <td>...</td>\n",
              "      <td>...</td>\n",
              "      <td>...</td>\n",
              "      <td>...</td>\n",
              "      <td>...</td>\n",
              "      <td>...</td>\n",
              "      <td>...</td>\n",
              "    </tr>\n",
              "    <tr>\n",
              "      <th>83</th>\n",
              "      <td>84</td>\n",
              "      <td>Add-ons</td>\n",
              "      <td>Flavours</td>\n",
              "      <td>Regular syrup</td>\n",
              "      <td>Chocolate syrup</td>\n",
              "      <td>0.04</td>\n",
              "      <td>0.80</td>\n",
              "      <td>Y</td>\n",
              "    </tr>\n",
              "    <tr>\n",
              "      <th>84</th>\n",
              "      <td>85</td>\n",
              "      <td>Beverages</td>\n",
              "      <td>Coffee</td>\n",
              "      <td>Specialty coffee</td>\n",
              "      <td>Rio Nights</td>\n",
              "      <td>1.20</td>\n",
              "      <td>6.00</td>\n",
              "      <td>Y</td>\n",
              "    </tr>\n",
              "    <tr>\n",
              "      <th>85</th>\n",
              "      <td>87</td>\n",
              "      <td>Beverages</td>\n",
              "      <td>Coffee</td>\n",
              "      <td>Barista Espresso</td>\n",
              "      <td>Ouro Brasileiro shot</td>\n",
              "      <td>0.60</td>\n",
              "      <td>3.00</td>\n",
              "      <td>Y</td>\n",
              "    </tr>\n",
              "    <tr>\n",
              "      <th>86</th>\n",
              "      <td>88</td>\n",
              "      <td>Beverages</td>\n",
              "      <td>Coffee</td>\n",
              "      <td>Barista Espresso</td>\n",
              "      <td>Ouro Brasileiro shot promo</td>\n",
              "      <td>0.42</td>\n",
              "      <td>2.10</td>\n",
              "      <td>Y</td>\n",
              "    </tr>\n",
              "    <tr>\n",
              "      <th>87</th>\n",
              "      <td>89</td>\n",
              "      <td>Food</td>\n",
              "      <td>Bakery</td>\n",
              "      <td>Scone</td>\n",
              "      <td>Ginger Scone promo</td>\n",
              "      <td>1.72</td>\n",
              "      <td>2.65</td>\n",
              "      <td>N</td>\n",
              "    </tr>\n",
              "  </tbody>\n",
              "</table>\n",
              "<p>88 rows × 8 columns</p>\n",
              "</div>\n",
              "      <button class=\"colab-df-convert\" onclick=\"convertToInteractive('df-6db7efac-8a2b-45b3-9840-b149104b561e')\"\n",
              "              title=\"Convert this dataframe to an interactive table.\"\n",
              "              style=\"display:none;\">\n",
              "        \n",
              "  <svg xmlns=\"http://www.w3.org/2000/svg\" height=\"24px\"viewBox=\"0 0 24 24\"\n",
              "       width=\"24px\">\n",
              "    <path d=\"M0 0h24v24H0V0z\" fill=\"none\"/>\n",
              "    <path d=\"M18.56 5.44l.94 2.06.94-2.06 2.06-.94-2.06-.94-.94-2.06-.94 2.06-2.06.94zm-11 1L8.5 8.5l.94-2.06 2.06-.94-2.06-.94L8.5 2.5l-.94 2.06-2.06.94zm10 10l.94 2.06.94-2.06 2.06-.94-2.06-.94-.94-2.06-.94 2.06-2.06.94z\"/><path d=\"M17.41 7.96l-1.37-1.37c-.4-.4-.92-.59-1.43-.59-.52 0-1.04.2-1.43.59L10.3 9.45l-7.72 7.72c-.78.78-.78 2.05 0 2.83L4 21.41c.39.39.9.59 1.41.59.51 0 1.02-.2 1.41-.59l7.78-7.78 2.81-2.81c.8-.78.8-2.07 0-2.86zM5.41 20L4 18.59l7.72-7.72 1.47 1.35L5.41 20z\"/>\n",
              "  </svg>\n",
              "      </button>\n",
              "      \n",
              "  <style>\n",
              "    .colab-df-container {\n",
              "      display:flex;\n",
              "      flex-wrap:wrap;\n",
              "      gap: 12px;\n",
              "    }\n",
              "\n",
              "    .colab-df-convert {\n",
              "      background-color: #E8F0FE;\n",
              "      border: none;\n",
              "      border-radius: 50%;\n",
              "      cursor: pointer;\n",
              "      display: none;\n",
              "      fill: #1967D2;\n",
              "      height: 32px;\n",
              "      padding: 0 0 0 0;\n",
              "      width: 32px;\n",
              "    }\n",
              "\n",
              "    .colab-df-convert:hover {\n",
              "      background-color: #E2EBFA;\n",
              "      box-shadow: 0px 1px 2px rgba(60, 64, 67, 0.3), 0px 1px 3px 1px rgba(60, 64, 67, 0.15);\n",
              "      fill: #174EA6;\n",
              "    }\n",
              "\n",
              "    [theme=dark] .colab-df-convert {\n",
              "      background-color: #3B4455;\n",
              "      fill: #D2E3FC;\n",
              "    }\n",
              "\n",
              "    [theme=dark] .colab-df-convert:hover {\n",
              "      background-color: #434B5C;\n",
              "      box-shadow: 0px 1px 3px 1px rgba(0, 0, 0, 0.15);\n",
              "      filter: drop-shadow(0px 1px 2px rgba(0, 0, 0, 0.3));\n",
              "      fill: #FFFFFF;\n",
              "    }\n",
              "  </style>\n",
              "\n",
              "      <script>\n",
              "        const buttonEl =\n",
              "          document.querySelector('#df-6db7efac-8a2b-45b3-9840-b149104b561e button.colab-df-convert');\n",
              "        buttonEl.style.display =\n",
              "          google.colab.kernel.accessAllowed ? 'block' : 'none';\n",
              "\n",
              "        async function convertToInteractive(key) {\n",
              "          const element = document.querySelector('#df-6db7efac-8a2b-45b3-9840-b149104b561e');\n",
              "          const dataTable =\n",
              "            await google.colab.kernel.invokeFunction('convertToInteractive',\n",
              "                                                     [key], {});\n",
              "          if (!dataTable) return;\n",
              "\n",
              "          const docLinkHtml = 'Like what you see? Visit the ' +\n",
              "            '<a target=\"_blank\" href=https://colab.research.google.com/notebooks/data_table.ipynb>data table notebook</a>'\n",
              "            + ' to learn more about interactive tables.';\n",
              "          element.innerHTML = '';\n",
              "          dataTable['output_type'] = 'display_data';\n",
              "          await google.colab.output.renderOutput(dataTable, element);\n",
              "          const docLink = document.createElement('div');\n",
              "          docLink.innerHTML = docLinkHtml;\n",
              "          element.appendChild(docLink);\n",
              "        }\n",
              "      </script>\n",
              "    </div>\n",
              "  </div>\n",
              "  "
            ]
          },
          "metadata": {},
          "execution_count": 24
        }
      ]
    },
    {
      "cell_type": "markdown",
      "source": [
        "Scatter Plot"
      ],
      "metadata": {
        "id": "W-QrZsHMgrbr"
      }
    },
    {
      "cell_type": "code",
      "source": [
        "sns.distplot(new_subset['current_wholesale_price'])"
      ],
      "metadata": {
        "colab": {
          "base_uri": "https://localhost:8080/",
          "height": 352
        },
        "id": "nLbLTvg3gtK4",
        "outputId": "675f4a2a-ab17-4dd9-d366-1b07da9c930e"
      },
      "execution_count": null,
      "outputs": [
        {
          "output_type": "stream",
          "name": "stderr",
          "text": [
            "/usr/local/lib/python3.9/dist-packages/seaborn/distributions.py:2619: FutureWarning: `distplot` is a deprecated function and will be removed in a future version. Please adapt your code to use either `displot` (a figure-level function with similar flexibility) or `histplot` (an axes-level function for histograms).\n",
            "  warnings.warn(msg, FutureWarning)\n"
          ]
        },
        {
          "output_type": "execute_result",
          "data": {
            "text/plain": [
              "<AxesSubplot:xlabel='current_wholesale_price', ylabel='Density'>"
            ]
          },
          "metadata": {},
          "execution_count": 29
        },
        {
          "output_type": "display_data",
          "data": {
            "text/plain": [
              "<Figure size 432x288 with 1 Axes>"
            ],
            "image/png": "[encoded data removed]"
          },
          "metadata": {
            "needs_background": "light"
          }
        }
      ]
    },
    {
      "cell_type": "code",
      "source": [
        "sns.distplot(new_subset['current_retail_price'])"
      ],
      "metadata": {
        "colab": {
          "base_uri": "https://localhost:8080/",
          "height": 352
        },
        "id": "Fxn1DgDzlJTW",
        "outputId": "d1bfc27a-005b-4b83-80e6-9b61dbb55458"
      },
      "execution_count": null,
      "outputs": [
        {
          "output_type": "stream",
          "name": "stderr",
          "text": [
            "/usr/local/lib/python3.9/dist-packages/seaborn/distributions.py:2619: FutureWarning: `distplot` is a deprecated function and will be removed in a future version. Please adapt your code to use either `displot` (a figure-level function with similar flexibility) or `histplot` (an axes-level function for histograms).\n",
            "  warnings.warn(msg, FutureWarning)\n"
          ]
        },
        {
          "output_type": "execute_result",
          "data": {
            "text/plain": [
              "<AxesSubplot:xlabel='current_retail_price', ylabel='Density'>"
            ]
          },
          "metadata": {},
          "execution_count": 26
        },
        {
          "output_type": "display_data",
          "data": {
            "text/plain": [
              "<Figure size 432x288 with 1 Axes>"
            ],
            "image/png": "[encoded data removed]"
          },
          "metadata": {
            "needs_background": "light"
          }
        }
      ]
    },
    {
      "cell_type": "markdown",
      "source": [
        "CATPLOT"
      ],
      "metadata": {
        "id": "ZD1vJ669LNXN"
      }
    },
    {
      "cell_type": "code",
      "source": [
        "sns.catplot(x=\"product_group\", y=\"current_retail_price\",\n",
        "                data=new_subset)"
      ],
      "metadata": {
        "colab": {
          "base_uri": "https://localhost:8080/",
          "height": 386
        },
        "id": "k3gfEgJoLOrQ",
        "outputId": "f80d7d38-4465-4555-8af9-4c42a68bdb0b"
      },
      "execution_count": null,
      "outputs": [
        {
          "output_type": "execute_result",
          "data": {
            "text/plain": [
              "<seaborn.axisgrid.FacetGrid at 0x7f2bc82d7160>"
            ]
          },
          "metadata": {},
          "execution_count": 27
        },
        {
          "output_type": "display_data",
          "data": {
            "text/plain": [
              "<Figure size 360x360 with 1 Axes>"
            ],
            "image/png": "[encoded data removed]"
          },
          "metadata": {
            "needs_background": "light"
          }
        }
      ]
    },
    {
      "cell_type": "code",
      "source": [
        "sns.catplot(x=\"product_group\", y=\"current_wholesale_price\",\n",
        "                data=new_subset)"
      ],
      "metadata": {
        "colab": {
          "base_uri": "https://localhost:8080/",
          "height": 386
        },
        "id": "zsq6RdwYSxIj",
        "outputId": "730cccb5-f8f0-4537-b196-fa6b43773e5b"
      },
      "execution_count": null,
      "outputs": [
        {
          "output_type": "execute_result",
          "data": {
            "text/plain": [
              "<seaborn.axisgrid.FacetGrid at 0x7f2b757cd6d0>"
            ]
          },
          "metadata": {},
          "execution_count": 30
        },
        {
          "output_type": "display_data",
          "data": {
            "text/plain": [
              "<Figure size 360x360 with 1 Axes>"
            ],
            "image/png": "[encoded data removed]"
          },
          "metadata": {
            "needs_background": "light"
          }
        }
      ]
    },
    {
      "cell_type": "code",
      "source": [
        "new_subset.to_excel('/content/new_product.xlsx')"
      ],
      "metadata": {
        "id": "Pha54V_nm4K0"
      },
      "execution_count": null,
      "outputs": []
    }
  ]
}