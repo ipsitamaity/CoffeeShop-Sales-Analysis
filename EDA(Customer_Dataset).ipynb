{
  "nbformat": 4,
  "nbformat_minor": 0,
  "metadata": {
    "colab": {
      "provenance": []
    },
    "kernelspec": {
      "name": "python3",
      "display_name": "Python 3"
    },
    "language_info": {
      "name": "python"
    }
  },
  "cells": [
    {
      "cell_type": "code",
      "execution_count": null,
      "metadata": {
        "id": "Ytrj1jDCXeel"
      },
      "outputs": [],
      "source": [
        "import pandas as pd\n",
        "import seaborn as sns\n",
        "import numpy as np"
      ]
    },
    {
      "cell_type": "markdown",
      "source": [
        "Importing the dataset"
      ],
      "metadata": {
        "id": "XS5qy7BZmBRB"
      }
    },
    {
      "cell_type": "code",
      "source": [
        "dataset= pd.read_excel('/content/customer.xlsx')\n",
        "dataset"
      ],
      "metadata": {
        "id": "PKTHNqCPmE2T",
        "colab": {
          "base_uri": "https://localhost:8080/",
          "height": 678
        },
        "outputId": "5742f72b-dd6b-4b60-ad30-5dfb262b0687"
      },
      "execution_count": null,
      "outputs": [
        {
          "output_type": "execute_result",
          "data": {
            "text/plain": [
              "      customer_id  home_store customer_first-name        customer_email  \\\n",
              "0               1           3           Kelly Key  Venus@adipiscing.edu   \n",
              "1               2           3     Clark Schroeder        Nora@fames.gov   \n",
              "2               3           3      Elvis Cardenas    Brianna@tellus.edu   \n",
              "3               4           3        Rafael Estes           Ina@non.gov   \n",
              "4               5           3          Colin Lynn      Dale@Integer.com   \n",
              "...           ...         ...                 ...                   ...   \n",
              "2241         8497           8                 Rae    Kylie@facilisi.org   \n",
              "2242         8498           8               April    Daniel@placerat.us   \n",
              "2243         8499           8          Clementine          Dieter@ac.us   \n",
              "2244         8500           8               Linda    Dillon@pretium.gov   \n",
              "2245         8501           8               Moana   Herrod@ultrices.gov   \n",
              "\n",
              "     customer_since loyalty_card_number  birthdate gender  birth_year  \n",
              "0        2017-01-04        908-424-2890 1950-05-29      M        1950  \n",
              "1        2017-01-07        032-732-6308 1950-07-30      M        1950  \n",
              "2        2017-01-10        459-375-9187 1950-09-30      M        1950  \n",
              "3        2017-01-13        576-640-9226 1950-12-01      M        1950  \n",
              "4        2017-01-15        344-674-6569 1951-02-01      M        1951  \n",
              "...             ...                 ...        ...    ...         ...  \n",
              "2241     2017-01-06        081-440-6679 1977-12-10      F        1977  \n",
              "2242     2019-01-20        705-545-5246 2000-12-07      N        2000  \n",
              "2243     2017-11-09        297-550-7776 1996-06-04      F        1996  \n",
              "2244     2017-08-21        255-202-7435 1990-03-01      N        1990  \n",
              "2245     2018-07-06        241-906-4009 1966-08-27      F        1966  \n",
              "\n",
              "[2246 rows x 9 columns]"
            ],
            "text/html": [
              "\n",
              "  <div id=\"df-7c57ce5b-f25f-4b03-9f2b-962a7688b4cc\">\n",
              "    <div class=\"colab-df-container\">\n",
              "      <div>\n",
              "<style scoped>\n",
              "    .dataframe tbody tr th:only-of-type {\n",
              "        vertical-align: middle;\n",
              "    }\n",
              "\n",
              "    .dataframe tbody tr th {\n",
              "        vertical-align: top;\n",
              "    }\n",
              "\n",
              "    .dataframe thead th {\n",
              "        text-align: right;\n",
              "    }\n",
              "</style>\n",
              "<table border=\"1\" class=\"dataframe\">\n",
              "  <thead>\n",
              "    <tr style=\"text-align: right;\">\n",
              "      <th></th>\n",
              "      <th>customer_id</th>\n",
              "      <th>home_store</th>\n",
              "      <th>customer_first-name</th>\n",
              "      <th>customer_email</th>\n",
              "      <th>customer_since</th>\n",
              "      <th>loyalty_card_number</th>\n",
              "      <th>birthdate</th>\n",
              "      <th>gender</th>\n",
              "      <th>birth_year</th>\n",
              "    </tr>\n",
              "  </thead>\n",
              "  <tbody>\n",
              "    <tr>\n",
              "      <th>0</th>\n",
              "      <td>1</td>\n",
              "      <td>3</td>\n",
              "      <td>Kelly Key</td>\n",
              "      <td>Venus@adipiscing.edu</td>\n",
              "      <td>2017-01-04</td>\n",
              "      <td>908-424-2890</td>\n",
              "      <td>1950-05-29</td>\n",
              "      <td>M</td>\n",
              "      <td>1950</td>\n",
              "    </tr>\n",
              "    <tr>\n",
              "      <th>1</th>\n",
              "      <td>2</td>\n",
              "      <td>3</td>\n",
              "      <td>Clark Schroeder</td>\n",
              "      <td>Nora@fames.gov</td>\n",
              "      <td>2017-01-07</td>\n",
              "      <td>032-732-6308</td>\n",
              "      <td>1950-07-30</td>\n",
              "      <td>M</td>\n",
              "      <td>1950</td>\n",
              "    </tr>\n",
              "    <tr>\n",
              "      <th>2</th>\n",
              "      <td>3</td>\n",
              "      <td>3</td>\n",
              "      <td>Elvis Cardenas</td>\n",
              "      <td>Brianna@tellus.edu</td>\n",
              "      <td>2017-01-10</td>\n",
              "      <td>459-375-9187</td>\n",
              "      <td>1950-09-30</td>\n",
              "      <td>M</td>\n",
              "      <td>1950</td>\n",
              "    </tr>\n",
              "    <tr>\n",
              "      <th>3</th>\n",
              "      <td>4</td>\n",
              "      <td>3</td>\n",
              "      <td>Rafael Estes</td>\n",
              "      <td>Ina@non.gov</td>\n",
              "      <td>2017-01-13</td>\n",
              "      <td>576-640-9226</td>\n",
              "      <td>1950-12-01</td>\n",
              "      <td>M</td>\n",
              "      <td>1950</td>\n",
              "    </tr>\n",
              "    <tr>\n",
              "      <th>4</th>\n",
              "      <td>5</td>\n",
              "      <td>3</td>\n",
              "      <td>Colin Lynn</td>\n",
              "      <td>Dale@Integer.com</td>\n",
              "      <td>2017-01-15</td>\n",
              "      <td>344-674-6569</td>\n",
              "      <td>1951-02-01</td>\n",
              "      <td>M</td>\n",
              "      <td>1951</td>\n",
              "    </tr>\n",
              "    <tr>\n",
              "      <th>...</th>\n",
              "      <td>...</td>\n",
              "      <td>...</td>\n",
              "      <td>...</td>\n",
              "      <td>...</td>\n",
              "      <td>...</td>\n",
              "      <td>...</td>\n",
              "      <td>...</td>\n",
              "      <td>...</td>\n",
              "      <td>...</td>\n",
              "    </tr>\n",
              "    <tr>\n",
              "      <th>2241</th>\n",
              "      <td>8497</td>\n",
              "      <td>8</td>\n",
              "      <td>Rae</td>\n",
              "      <td>Kylie@facilisi.org</td>\n",
              "      <td>2017-01-06</td>\n",
              "      <td>081-440-6679</td>\n",
              "      <td>1977-12-10</td>\n",
              "      <td>F</td>\n",
              "      <td>1977</td>\n",
              "    </tr>\n",
              "    <tr>\n",
              "      <th>2242</th>\n",
              "      <td>8498</td>\n",
              "      <td>8</td>\n",
              "      <td>April</td>\n",
              "      <td>Daniel@placerat.us</td>\n",
              "      <td>2019-01-20</td>\n",
              "      <td>705-545-5246</td>\n",
              "      <td>2000-12-07</td>\n",
              "      <td>N</td>\n",
              "      <td>2000</td>\n",
              "    </tr>\n",
              "    <tr>\n",
              "      <th>2243</th>\n",
              "      <td>8499</td>\n",
              "      <td>8</td>\n",
              "      <td>Clementine</td>\n",
              "      <td>Dieter@ac.us</td>\n",
              "      <td>2017-11-09</td>\n",
              "      <td>297-550-7776</td>\n",
              "      <td>1996-06-04</td>\n",
              "      <td>F</td>\n",
              "      <td>1996</td>\n",
              "    </tr>\n",
              "    <tr>\n",
              "      <th>2244</th>\n",
              "      <td>8500</td>\n",
              "      <td>8</td>\n",
              "      <td>Linda</td>\n",
              "      <td>Dillon@pretium.gov</td>\n",
              "      <td>2017-08-21</td>\n",
              "      <td>255-202-7435</td>\n",
              "      <td>1990-03-01</td>\n",
              "      <td>N</td>\n",
              "      <td>1990</td>\n",
              "    </tr>\n",
              "    <tr>\n",
              "      <th>2245</th>\n",
              "      <td>8501</td>\n",
              "      <td>8</td>\n",
              "      <td>Moana</td>\n",
              "      <td>Herrod@ultrices.gov</td>\n",
              "      <td>2018-07-06</td>\n",
              "      <td>241-906-4009</td>\n",
              "      <td>1966-08-27</td>\n",
              "      <td>F</td>\n",
              "      <td>1966</td>\n",
              "    </tr>\n",
              "  </tbody>\n",
              "</table>\n",
              "<p>2246 rows × 9 columns</p>\n",
              "</div>\n",
              "      <button class=\"colab-df-convert\" onclick=\"convertToInteractive('df-7c57ce5b-f25f-4b03-9f2b-962a7688b4cc')\"\n",
              "              title=\"Convert this dataframe to an interactive table.\"\n",
              "              style=\"display:none;\">\n",
              "        \n",
              "  <svg xmlns=\"http://www.w3.org/2000/svg\" height=\"24px\"viewBox=\"0 0 24 24\"\n",
              "       width=\"24px\">\n",
              "    <path d=\"M0 0h24v24H0V0z\" fill=\"none\"/>\n",
              "    <path d=\"M18.56 5.44l.94 2.06.94-2.06 2.06-.94-2.06-.94-.94-2.06-.94 2.06-2.06.94zm-11 1L8.5 8.5l.94-2.06 2.06-.94-2.06-.94L8.5 2.5l-.94 2.06-2.06.94zm10 10l.94 2.06.94-2.06 2.06-.94-2.06-.94-.94-2.06-.94 2.06-2.06.94z\"/><path d=\"M17.41 7.96l-1.37-1.37c-.4-.4-.92-.59-1.43-.59-.52 0-1.04.2-1.43.59L10.3 9.45l-7.72 7.72c-.78.78-.78 2.05 0 2.83L4 21.41c.39.39.9.59 1.41.59.51 0 1.02-.2 1.41-.59l7.78-7.78 2.81-2.81c.8-.78.8-2.07 0-2.86zM5.41 20L4 18.59l7.72-7.72 1.47 1.35L5.41 20z\"/>\n",
              "  </svg>\n",
              "      </button>\n",
              "      \n",
              "  <style>\n",
              "    .colab-df-container {\n",
              "      display:flex;\n",
              "      flex-wrap:wrap;\n",
              "      gap: 12px;\n",
              "    }\n",
              "\n",
              "    .colab-df-convert {\n",
              "      background-color: #E8F0FE;\n",
              "      border: none;\n",
              "      border-radius: 50%;\n",
              "      cursor: pointer;\n",
              "      display: none;\n",
              "      fill: #1967D2;\n",
              "      height: 32px;\n",
              "      padding: 0 0 0 0;\n",
              "      width: 32px;\n",
              "    }\n",
              "\n",
              "    .colab-df-convert:hover {\n",
              "      background-color: #E2EBFA;\n",
              "      box-shadow: 0px 1px 2px rgba(60, 64, 67, 0.3), 0px 1px 3px 1px rgba(60, 64, 67, 0.15);\n",
              "      fill: #174EA6;\n",
              "    }\n",
              "\n",
              "    [theme=dark] .colab-df-convert {\n",
              "      background-color: #3B4455;\n",
              "      fill: #D2E3FC;\n",
              "    }\n",
              "\n",
              "    [theme=dark] .colab-df-convert:hover {\n",
              "      background-color: #434B5C;\n",
              "      box-shadow: 0px 1px 3px 1px rgba(0, 0, 0, 0.15);\n",
              "      filter: drop-shadow(0px 1px 2px rgba(0, 0, 0, 0.3));\n",
              "      fill: #FFFFFF;\n",
              "    }\n",
              "  </style>\n",
              "\n",
              "      <script>\n",
              "        const buttonEl =\n",
              "          document.querySelector('#df-7c57ce5b-f25f-4b03-9f2b-962a7688b4cc button.colab-df-convert');\n",
              "        buttonEl.style.display =\n",
              "          google.colab.kernel.accessAllowed ? 'block' : 'none';\n",
              "\n",
              "        async function convertToInteractive(key) {\n",
              "          const element = document.querySelector('#df-7c57ce5b-f25f-4b03-9f2b-962a7688b4cc');\n",
              "          const dataTable =\n",
              "            await google.colab.kernel.invokeFunction('convertToInteractive',\n",
              "                                                     [key], {});\n",
              "          if (!dataTable) return;\n",
              "\n",
              "          const docLinkHtml = 'Like what you see? Visit the ' +\n",
              "            '<a target=\"_blank\" href=https://colab.research.google.com/notebooks/data_table.ipynb>data table notebook</a>'\n",
              "            + ' to learn more about interactive tables.';\n",
              "          element.innerHTML = '';\n",
              "          dataTable['output_type'] = 'display_data';\n",
              "          await google.colab.output.renderOutput(dataTable, element);\n",
              "          const docLink = document.createElement('div');\n",
              "          docLink.innerHTML = docLinkHtml;\n",
              "          element.appendChild(docLink);\n",
              "        }\n",
              "      </script>\n",
              "    </div>\n",
              "  </div>\n",
              "  "
            ]
          },
          "metadata": {},
          "execution_count": 10
        }
      ]
    },
    {
      "cell_type": "markdown",
      "source": [
        "Removing Unnecessary Columns"
      ],
      "metadata": {
        "id": "pz0ZwsEOKg6Z"
      }
    },
    {
      "cell_type": "code",
      "source": [
        "dataset.columns"
      ],
      "metadata": {
        "colab": {
          "base_uri": "https://localhost:8080/"
        },
        "id": "g0Cw06YLKnnu",
        "outputId": "46efa089-903c-4f2d-a7c8-e823a196ad9e"
      },
      "execution_count": null,
      "outputs": [
        {
          "output_type": "execute_result",
          "data": {
            "text/plain": [
              "Index(['customer_id', 'home_store', 'customer_first-name', 'customer_email',\n",
              "       'customer_since', 'loyalty_card_number', 'birthdate', 'gender',\n",
              "       'birth_year'],\n",
              "      dtype='object')"
            ]
          },
          "metadata": {},
          "execution_count": 11
        }
      ]
    },
    {
      "cell_type": "code",
      "source": [
        "subset=dataset[['customer_id', 'home_store', 'gender',\n",
        "       'birth_year']]\n",
        "subset"
      ],
      "metadata": {
        "colab": {
          "base_uri": "https://localhost:8080/",
          "height": 423
        },
        "id": "XsWN8eIiKzR7",
        "outputId": "47039b0b-73b6-498f-b541-8928892b4def"
      },
      "execution_count": null,
      "outputs": [
        {
          "output_type": "execute_result",
          "data": {
            "text/plain": [
              "      customer_id  home_store gender  birth_year\n",
              "0               1           3      M        1950\n",
              "1               2           3      M        1950\n",
              "2               3           3      M        1950\n",
              "3               4           3      M        1950\n",
              "4               5           3      M        1951\n",
              "...           ...         ...    ...         ...\n",
              "2241         8497           8      F        1977\n",
              "2242         8498           8      N        2000\n",
              "2243         8499           8      F        1996\n",
              "2244         8500           8      N        1990\n",
              "2245         8501           8      F        1966\n",
              "\n",
              "[2246 rows x 4 columns]"
            ],
            "text/html": [
              "\n",
              "  <div id=\"df-ad83d7aa-a259-43f3-b083-4a941357590d\">\n",
              "    <div class=\"colab-df-container\">\n",
              "      <div>\n",
              "<style scoped>\n",
              "    .dataframe tbody tr th:only-of-type {\n",
              "        vertical-align: middle;\n",
              "    }\n",
              "\n",
              "    .dataframe tbody tr th {\n",
              "        vertical-align: top;\n",
              "    }\n",
              "\n",
              "    .dataframe thead th {\n",
              "        text-align: right;\n",
              "    }\n",
              "</style>\n",
              "<table border=\"1\" class=\"dataframe\">\n",
              "  <thead>\n",
              "    <tr style=\"text-align: right;\">\n",
              "      <th></th>\n",
              "      <th>customer_id</th>\n",
              "      <th>home_store</th>\n",
              "      <th>gender</th>\n",
              "      <th>birth_year</th>\n",
              "    </tr>\n",
              "  </thead>\n",
              "  <tbody>\n",
              "    <tr>\n",
              "      <th>0</th>\n",
              "      <td>1</td>\n",
              "      <td>3</td>\n",
              "      <td>M</td>\n",
              "      <td>1950</td>\n",
              "    </tr>\n",
              "    <tr>\n",
              "      <th>1</th>\n",
              "      <td>2</td>\n",
              "      <td>3</td>\n",
              "      <td>M</td>\n",
              "      <td>1950</td>\n",
              "    </tr>\n",
              "    <tr>\n",
              "      <th>2</th>\n",
              "      <td>3</td>\n",
              "      <td>3</td>\n",
              "      <td>M</td>\n",
              "      <td>1950</td>\n",
              "    </tr>\n",
              "    <tr>\n",
              "      <th>3</th>\n",
              "      <td>4</td>\n",
              "      <td>3</td>\n",
              "      <td>M</td>\n",
              "      <td>1950</td>\n",
              "    </tr>\n",
              "    <tr>\n",
              "      <th>4</th>\n",
              "      <td>5</td>\n",
              "      <td>3</td>\n",
              "      <td>M</td>\n",
              "      <td>1951</td>\n",
              "    </tr>\n",
              "    <tr>\n",
              "      <th>...</th>\n",
              "      <td>...</td>\n",
              "      <td>...</td>\n",
              "      <td>...</td>\n",
              "      <td>...</td>\n",
              "    </tr>\n",
              "    <tr>\n",
              "      <th>2241</th>\n",
              "      <td>8497</td>\n",
              "      <td>8</td>\n",
              "      <td>F</td>\n",
              "      <td>1977</td>\n",
              "    </tr>\n",
              "    <tr>\n",
              "      <th>2242</th>\n",
              "      <td>8498</td>\n",
              "      <td>8</td>\n",
              "      <td>N</td>\n",
              "      <td>2000</td>\n",
              "    </tr>\n",
              "    <tr>\n",
              "      <th>2243</th>\n",
              "      <td>8499</td>\n",
              "      <td>8</td>\n",
              "      <td>F</td>\n",
              "      <td>1996</td>\n",
              "    </tr>\n",
              "    <tr>\n",
              "      <th>2244</th>\n",
              "      <td>8500</td>\n",
              "      <td>8</td>\n",
              "      <td>N</td>\n",
              "      <td>1990</td>\n",
              "    </tr>\n",
              "    <tr>\n",
              "      <th>2245</th>\n",
              "      <td>8501</td>\n",
              "      <td>8</td>\n",
              "      <td>F</td>\n",
              "      <td>1966</td>\n",
              "    </tr>\n",
              "  </tbody>\n",
              "</table>\n",
              "<p>2246 rows × 4 columns</p>\n",
              "</div>\n",
              "      <button class=\"colab-df-convert\" onclick=\"convertToInteractive('df-ad83d7aa-a259-43f3-b083-4a941357590d')\"\n",
              "              title=\"Convert this dataframe to an interactive table.\"\n",
              "              style=\"display:none;\">\n",
              "        \n",
              "  <svg xmlns=\"http://www.w3.org/2000/svg\" height=\"24px\"viewBox=\"0 0 24 24\"\n",
              "       width=\"24px\">\n",
              "    <path d=\"M0 0h24v24H0V0z\" fill=\"none\"/>\n",
              "    <path d=\"M18.56 5.44l.94 2.06.94-2.06 2.06-.94-2.06-.94-.94-2.06-.94 2.06-2.06.94zm-11 1L8.5 8.5l.94-2.06 2.06-.94-2.06-.94L8.5 2.5l-.94 2.06-2.06.94zm10 10l.94 2.06.94-2.06 2.06-.94-2.06-.94-.94-2.06-.94 2.06-2.06.94z\"/><path d=\"M17.41 7.96l-1.37-1.37c-.4-.4-.92-.59-1.43-.59-.52 0-1.04.2-1.43.59L10.3 9.45l-7.72 7.72c-.78.78-.78 2.05 0 2.83L4 21.41c.39.39.9.59 1.41.59.51 0 1.02-.2 1.41-.59l7.78-7.78 2.81-2.81c.8-.78.8-2.07 0-2.86zM5.41 20L4 18.59l7.72-7.72 1.47 1.35L5.41 20z\"/>\n",
              "  </svg>\n",
              "      </button>\n",
              "      \n",
              "  <style>\n",
              "    .colab-df-container {\n",
              "      display:flex;\n",
              "      flex-wrap:wrap;\n",
              "      gap: 12px;\n",
              "    }\n",
              "\n",
              "    .colab-df-convert {\n",
              "      background-color: #E8F0FE;\n",
              "      border: none;\n",
              "      border-radius: 50%;\n",
              "      cursor: pointer;\n",
              "      display: none;\n",
              "      fill: #1967D2;\n",
              "      height: 32px;\n",
              "      padding: 0 0 0 0;\n",
              "      width: 32px;\n",
              "    }\n",
              "\n",
              "    .colab-df-convert:hover {\n",
              "      background-color: #E2EBFA;\n",
              "      box-shadow: 0px 1px 2px rgba(60, 64, 67, 0.3), 0px 1px 3px 1px rgba(60, 64, 67, 0.15);\n",
              "      fill: #174EA6;\n",
              "    }\n",
              "\n",
              "    [theme=dark] .colab-df-convert {\n",
              "      background-color: #3B4455;\n",
              "      fill: #D2E3FC;\n",
              "    }\n",
              "\n",
              "    [theme=dark] .colab-df-convert:hover {\n",
              "      background-color: #434B5C;\n",
              "      box-shadow: 0px 1px 3px 1px rgba(0, 0, 0, 0.15);\n",
              "      filter: drop-shadow(0px 1px 2px rgba(0, 0, 0, 0.3));\n",
              "      fill: #FFFFFF;\n",
              "    }\n",
              "  </style>\n",
              "\n",
              "      <script>\n",
              "        const buttonEl =\n",
              "          document.querySelector('#df-ad83d7aa-a259-43f3-b083-4a941357590d button.colab-df-convert');\n",
              "        buttonEl.style.display =\n",
              "          google.colab.kernel.accessAllowed ? 'block' : 'none';\n",
              "\n",
              "        async function convertToInteractive(key) {\n",
              "          const element = document.querySelector('#df-ad83d7aa-a259-43f3-b083-4a941357590d');\n",
              "          const dataTable =\n",
              "            await google.colab.kernel.invokeFunction('convertToInteractive',\n",
              "                                                     [key], {});\n",
              "          if (!dataTable) return;\n",
              "\n",
              "          const docLinkHtml = 'Like what you see? Visit the ' +\n",
              "            '<a target=\"_blank\" href=https://colab.research.google.com/notebooks/data_table.ipynb>data table notebook</a>'\n",
              "            + ' to learn more about interactive tables.';\n",
              "          element.innerHTML = '';\n",
              "          dataTable['output_type'] = 'display_data';\n",
              "          await google.colab.output.renderOutput(dataTable, element);\n",
              "          const docLink = document.createElement('div');\n",
              "          docLink.innerHTML = docLinkHtml;\n",
              "          element.appendChild(docLink);\n",
              "        }\n",
              "      </script>\n",
              "    </div>\n",
              "  </div>\n",
              "  "
            ]
          },
          "metadata": {},
          "execution_count": 12
        }
      ]
    },
    {
      "cell_type": "markdown",
      "source": [
        "checking null values"
      ],
      "metadata": {
        "id": "EUkHE6zZbFL8"
      }
    },
    {
      "cell_type": "code",
      "source": [
        "subset.isnull().sum()"
      ],
      "metadata": {
        "colab": {
          "base_uri": "https://localhost:8080/"
        },
        "id": "ZacN4tLEbHUV",
        "outputId": "d878e3ad-3714-4fa3-dcc7-e20e1c68fa62"
      },
      "execution_count": null,
      "outputs": [
        {
          "output_type": "execute_result",
          "data": {
            "text/plain": [
              "customer_id    0\n",
              "home_store     0\n",
              "gender         0\n",
              "birth_year     0\n",
              "dtype: int64"
            ]
          },
          "metadata": {},
          "execution_count": 13
        }
      ]
    },
    {
      "cell_type": "markdown",
      "source": [
        "checking unique values"
      ],
      "metadata": {
        "id": "vF879_RWbSE5"
      }
    },
    {
      "cell_type": "code",
      "source": [
        "subset.nunique()"
      ],
      "metadata": {
        "colab": {
          "base_uri": "https://localhost:8080/"
        },
        "id": "n1He89aibVXP",
        "outputId": "3d49b52c-c9da-4650-d35f-a495f32800f6"
      },
      "execution_count": null,
      "outputs": [
        {
          "output_type": "execute_result",
          "data": {
            "text/plain": [
              "customer_id    2246\n",
              "home_store        3\n",
              "gender            3\n",
              "birth_year       52\n",
              "dtype: int64"
            ]
          },
          "metadata": {},
          "execution_count": 14
        }
      ]
    },
    {
      "cell_type": "markdown",
      "source": [
        "Histogram"
      ],
      "metadata": {
        "id": "EcQt5lFghndO"
      }
    },
    {
      "cell_type": "code",
      "source": [
        "sns.histplot(data= subset, x='home_store')"
      ],
      "metadata": {
        "colab": {
          "base_uri": "https://localhost:8080/",
          "height": 297
        },
        "id": "T3FIFYUFhpzD",
        "outputId": "a0cc1dcb-1364-493a-8ba0-92dff32f7f36"
      },
      "execution_count": null,
      "outputs": [
        {
          "output_type": "execute_result",
          "data": {
            "text/plain": [
              "<AxesSubplot:xlabel='home_store', ylabel='Count'>"
            ]
          },
          "metadata": {},
          "execution_count": 15
        },
        {
          "output_type": "display_data",
          "data": {
            "text/plain": [
              "<Figure size 432x288 with 1 Axes>"
            ],
            "image/png": "[encoded data removed]"
          },
          "metadata": {
            "needs_background": "light"
          }
        }
      ]
    },
    {
      "cell_type": "code",
      "source": [
        "sns.histplot(data= subset, x='gender')"
      ],
      "metadata": {
        "colab": {
          "base_uri": "https://localhost:8080/",
          "height": 296
        },
        "id": "36WqtG4Wih74",
        "outputId": "d4211ef2-c03a-4ace-8907-092827b43408"
      },
      "execution_count": null,
      "outputs": [
        {
          "output_type": "execute_result",
          "data": {
            "text/plain": [
              "<AxesSubplot:xlabel='gender', ylabel='Count'>"
            ]
          },
          "metadata": {},
          "execution_count": 16
        },
        {
          "output_type": "display_data",
          "data": {
            "text/plain": [
              "<Figure size 432x288 with 1 Axes>"
            ],
            "image/png": "[encoded data removed]"
          },
          "metadata": {
            "needs_background": "light"
          }
        }
      ]
    },
    {
      "cell_type": "code",
      "source": [
        "subset.to_excel('/content/new_customer.xlsx')"
      ],
      "metadata": {
        "id": "263nNyawuwTs"
      },
      "execution_count": null,
      "outputs": []
    }
  ]
}